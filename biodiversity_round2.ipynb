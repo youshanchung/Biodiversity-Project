{
 "cells": [
  {
   "cell_type": "markdown",
   "metadata": {},
   "source": [
    "# Introduction \n",
    "####(Including goals, methodology, and questions)\n",
    "The goal of this project is to find out how species and animals in four American National Parks are distributed and conserved. \n",
    "This project will scope, analyze, prepare and visualize data, as well as explain the findings from the analysis and visualizations. \n",
    "The questions we seek to answer are:\n",
    "1. What are the conservation status of the species in the four national parks?\n",
    "2. Is there a significant difference between the conservation status of the species?  \n",
    "4. Which animals are most often sighted in each park? \n",
    "5. Are there animals that generally need to be conserved the most? In which park are they conserved better/worst? \n",
    "\n",
    "**Data Sources**: \n",
    "observations.csv and species_info.csv, which are both provided by codecademy.com"
   ]
  },
  {
   "cell_type": "markdown",
   "metadata": {},
   "source": [
    "## Scoping\n",
    "(Motivation plus section introduction)\n",
    "Knowing how national parks are conserving protected species parks inform conservation planning. This can be done by taking stock of the species in need of protection in these parks. The first section will introduce the data we base our analysis on, followed by a section that presents the counts of (conserved) species, null values, etc. The third section will clean the data and align the methods and analysis with the project goals. Conclusions from previous analyses will be given in the fourth section, while inadequacies of the study and future questions to probe will be addressed in the last section. \n",
    "### Project Goals\n",
    "Define the audience and Questions\n",
    "A data scientist with National Wildlife Conservation Council, I'm commissioned to investigate the conservation outcomes of four national parks. The results should be able to inform the conservation direction of the four parks.  \n",
    "\n",
    "### Data\n",
    "Explain the data in more details than in intro. \n",
    "The investigation will be based on two csvs.One is \"species_info.csv', whose columns are category,scientific_name,common_names,conservation_status. In which category means \"Class\" in the biological classification. The other file, \"observations\", has scientific_name,park_name, and observations as columns. \"Observations\" here refer to sightings over the past seven days. \n",
    "### Analysis\n",
    "In this section, we will use descriptive analysis and visualizations to understand the data. We'll also evaluate the statistic significance of the relationship between variables.  \n",
    "The following analyses will be included:\n",
    "1. distributions\n",
    "2. counts\n",
    "3. relationship between species\n",
    "4. conservation status of species\n",
    "5. observations of species in parks\n",
    "\n",
    "### Evaluation\n",
    "This address whether the questions have been answered. If not, how could data or methodologies be improved for them to be answered?"
   ]
  },
  {
   "cell_type": "markdown",
   "metadata": {},
   "source": [
    "## Loading the data"
   ]
  },
  {
   "cell_type": "code",
   "execution_count": 1,
   "metadata": {},
   "outputs": [],
   "source": [
    "import numpy as np\n",
    "from scipy.stats import chi2_contingency#我本來寫 import scipy，下面用 chi2_contingency 時它就說認不得\n",
    "import re\n",
    "import pandas as pd\n",
    "from matplotlib import pyplot as plt\n",
    "import seaborn as sn"
   ]
  },
  {
   "cell_type": "markdown",
   "metadata": {},
   "source": [
    "### Exploring the Data"
   ]
  },
  {
   "cell_type": "code",
   "execution_count": 2,
   "metadata": {},
   "outputs": [
    {
     "data": {
      "text/html": [
       "<div>\n",
       "<style scoped>\n",
       "    .dataframe tbody tr th:only-of-type {\n",
       "        vertical-align: middle;\n",
       "    }\n",
       "\n",
       "    .dataframe tbody tr th {\n",
       "        vertical-align: top;\n",
       "    }\n",
       "\n",
       "    .dataframe thead th {\n",
       "        text-align: right;\n",
       "    }\n",
       "</style>\n",
       "<table border=\"1\" class=\"dataframe\">\n",
       "  <thead>\n",
       "    <tr style=\"text-align: right;\">\n",
       "      <th></th>\n",
       "      <th>scientific_name</th>\n",
       "      <th>park_name</th>\n",
       "      <th>observations</th>\n",
       "    </tr>\n",
       "  </thead>\n",
       "  <tbody>\n",
       "    <tr>\n",
       "      <th>0</th>\n",
       "      <td>Vicia benghalensis</td>\n",
       "      <td>Great Smoky Mountains National Park</td>\n",
       "      <td>68</td>\n",
       "    </tr>\n",
       "    <tr>\n",
       "      <th>1</th>\n",
       "      <td>Neovison vison</td>\n",
       "      <td>Great Smoky Mountains National Park</td>\n",
       "      <td>77</td>\n",
       "    </tr>\n",
       "    <tr>\n",
       "      <th>2</th>\n",
       "      <td>Prunus subcordata</td>\n",
       "      <td>Yosemite National Park</td>\n",
       "      <td>138</td>\n",
       "    </tr>\n",
       "    <tr>\n",
       "      <th>3</th>\n",
       "      <td>Abutilon theophrasti</td>\n",
       "      <td>Bryce National Park</td>\n",
       "      <td>84</td>\n",
       "    </tr>\n",
       "    <tr>\n",
       "      <th>4</th>\n",
       "      <td>Githopsis specularioides</td>\n",
       "      <td>Great Smoky Mountains National Park</td>\n",
       "      <td>85</td>\n",
       "    </tr>\n",
       "  </tbody>\n",
       "</table>\n",
       "</div>"
      ],
      "text/plain": [
       "            scientific_name                            park_name  observations\n",
       "0        Vicia benghalensis  Great Smoky Mountains National Park            68\n",
       "1            Neovison vison  Great Smoky Mountains National Park            77\n",
       "2         Prunus subcordata               Yosemite National Park           138\n",
       "3      Abutilon theophrasti                  Bryce National Park            84\n",
       "4  Githopsis specularioides  Great Smoky Mountains National Park            85"
      ]
     },
     "execution_count": 2,
     "metadata": {},
     "output_type": "execute_result"
    }
   ],
   "source": [
    "observations=pd.read_csv('observations.csv')\n",
    "species_info=pd.read_csv('species_info.csv')\n",
    "\n",
    "observations.head()"
   ]
  },
  {
   "cell_type": "code",
   "execution_count": 3,
   "metadata": {},
   "outputs": [
    {
     "data": {
      "text/html": [
       "<div>\n",
       "<style scoped>\n",
       "    .dataframe tbody tr th:only-of-type {\n",
       "        vertical-align: middle;\n",
       "    }\n",
       "\n",
       "    .dataframe tbody tr th {\n",
       "        vertical-align: top;\n",
       "    }\n",
       "\n",
       "    .dataframe thead th {\n",
       "        text-align: right;\n",
       "    }\n",
       "</style>\n",
       "<table border=\"1\" class=\"dataframe\">\n",
       "  <thead>\n",
       "    <tr style=\"text-align: right;\">\n",
       "      <th></th>\n",
       "      <th>category</th>\n",
       "      <th>scientific_name</th>\n",
       "      <th>common_names</th>\n",
       "      <th>conservation_status</th>\n",
       "    </tr>\n",
       "  </thead>\n",
       "  <tbody>\n",
       "    <tr>\n",
       "      <th>0</th>\n",
       "      <td>Mammal</td>\n",
       "      <td>Clethrionomys gapperi gapperi</td>\n",
       "      <td>Gapper's Red-Backed Vole</td>\n",
       "      <td>NaN</td>\n",
       "    </tr>\n",
       "    <tr>\n",
       "      <th>1</th>\n",
       "      <td>Mammal</td>\n",
       "      <td>Bos bison</td>\n",
       "      <td>American Bison, Bison</td>\n",
       "      <td>NaN</td>\n",
       "    </tr>\n",
       "    <tr>\n",
       "      <th>2</th>\n",
       "      <td>Mammal</td>\n",
       "      <td>Bos taurus</td>\n",
       "      <td>Aurochs, Aurochs, Domestic Cattle (Feral), Dom...</td>\n",
       "      <td>NaN</td>\n",
       "    </tr>\n",
       "    <tr>\n",
       "      <th>3</th>\n",
       "      <td>Mammal</td>\n",
       "      <td>Ovis aries</td>\n",
       "      <td>Domestic Sheep, Mouflon, Red Sheep, Sheep (Feral)</td>\n",
       "      <td>NaN</td>\n",
       "    </tr>\n",
       "    <tr>\n",
       "      <th>4</th>\n",
       "      <td>Mammal</td>\n",
       "      <td>Cervus elaphus</td>\n",
       "      <td>Wapiti Or Elk</td>\n",
       "      <td>NaN</td>\n",
       "    </tr>\n",
       "  </tbody>\n",
       "</table>\n",
       "</div>"
      ],
      "text/plain": [
       "  category                scientific_name  \\\n",
       "0   Mammal  Clethrionomys gapperi gapperi   \n",
       "1   Mammal                      Bos bison   \n",
       "2   Mammal                     Bos taurus   \n",
       "3   Mammal                     Ovis aries   \n",
       "4   Mammal                 Cervus elaphus   \n",
       "\n",
       "                                        common_names conservation_status  \n",
       "0                           Gapper's Red-Backed Vole                 NaN  \n",
       "1                              American Bison, Bison                 NaN  \n",
       "2  Aurochs, Aurochs, Domestic Cattle (Feral), Dom...                 NaN  \n",
       "3  Domestic Sheep, Mouflon, Red Sheep, Sheep (Feral)                 NaN  \n",
       "4                                      Wapiti Or Elk                 NaN  "
      ]
     },
     "execution_count": 3,
     "metadata": {},
     "output_type": "execute_result"
    }
   ],
   "source": [
    "species_info.head()"
   ]
  },
  {
   "cell_type": "markdown",
   "metadata": {},
   "source": [
    "#### species_info"
   ]
  },
  {
   "cell_type": "code",
   "execution_count": 4,
   "metadata": {},
   "outputs": [
    {
     "name": "stdout",
     "output_type": "stream",
     "text": [
      "<class 'pandas.core.frame.DataFrame'>\n",
      "RangeIndex: 5824 entries, 0 to 5823\n",
      "Data columns (total 4 columns):\n",
      " #   Column               Non-Null Count  Dtype \n",
      "---  ------               --------------  ----- \n",
      " 0   category             5824 non-null   object\n",
      " 1   scientific_name      5824 non-null   object\n",
      " 2   common_names         5824 non-null   object\n",
      " 3   conservation_status  191 non-null    object\n",
      "dtypes: object(4)\n",
      "memory usage: 182.1+ KB\n"
     ]
    }
   ],
   "source": [
    "species_info.info()"
   ]
  },
  {
   "cell_type": "code",
   "execution_count": 5,
   "metadata": {},
   "outputs": [
    {
     "name": "stdout",
     "output_type": "stream",
     "text": [
      "(5824, 4)\n",
      "(23296, 3)\n"
     ]
    }
   ],
   "source": [
    "#conservation_status 用 head看不到實際資料，要回原始資料\n",
    "print(species_info.shape)\n",
    "print(observations.shape)"
   ]
  },
  {
   "cell_type": "code",
   "execution_count": 6,
   "metadata": {
    "scrolled": true
   },
   "outputs": [
    {
     "name": "stdout",
     "output_type": "stream",
     "text": [
      "Index(['category', 'scientific_name', 'common_names', 'conservation_status'], dtype='object')\n",
      "\n",
      "\n",
      "category nunique:\n",
      "7\n",
      "\n",
      "scientific_name nunique:\n",
      "5541\n",
      "\n",
      "common_names nunique:\n",
      "5504\n",
      "\n",
      "conservation_status nunique:\n",
      "4\n",
      "\n"
     ]
    }
   ],
   "source": [
    "print(species_info.columns)\n",
    "print(\"\\n\")\n",
    "\n",
    "for column in list(species_info.columns):\n",
    "    print(f\"{column} nunique:\\n{species_info[column].nunique()}\\n\")"
   ]
  },
  {
   "cell_type": "code",
   "execution_count": 7,
   "metadata": {},
   "outputs": [
    {
     "data": {
      "text/plain": [
       "category\n",
       "Amphibian              80\n",
       "Bird                  521\n",
       "Fish                  127\n",
       "Mammal                214\n",
       "Nonvascular Plant     333\n",
       "Reptile                79\n",
       "Vascular Plant       4470\n",
       "Name: scientific_name, dtype: int64"
      ]
     },
     "execution_count": 7,
     "metadata": {},
     "output_type": "execute_result"
    }
   ],
   "source": [
    "species_info.groupby('category').scientific_name.size()"
   ]
  },
  {
   "cell_type": "code",
   "execution_count": 8,
   "metadata": {},
   "outputs": [
    {
     "name": "stdout",
     "output_type": "stream",
     "text": [
      "Species of Concern    161\n",
      "Endangered             16\n",
      "Threatened             10\n",
      "In Recovery             4\n",
      "Name: conservation_status, dtype: int64\n"
     ]
    },
    {
     "data": {
      "text/plain": [
       "5633"
      ]
     },
     "execution_count": 8,
     "metadata": {},
     "output_type": "execute_result"
    }
   ],
   "source": [
    "print(species_info['conservation_status'].value_counts())\n",
    "#Deal with NaN\n",
    "species_info['conservation_status'].isnull().sum()"
   ]
  },
  {
   "cell_type": "markdown",
   "metadata": {},
   "source": [
    "#### Observations\n"
   ]
  },
  {
   "cell_type": "code",
   "execution_count": 9,
   "metadata": {},
   "outputs": [
    {
     "name": "stdout",
     "output_type": "stream",
     "text": [
      "Index(['scientific_name', 'park_name', 'observations'], dtype='object')\n",
      "\n",
      "\n",
      "scientific_name nunique:\n",
      "5541\n",
      "\n",
      "park_name nunique:\n",
      "4\n",
      "\n",
      "observations nunique:\n",
      "304\n",
      "\n",
      "<class 'pandas.core.frame.DataFrame'>\n",
      "RangeIndex: 23296 entries, 0 to 23295\n",
      "Data columns (total 3 columns):\n",
      " #   Column           Non-Null Count  Dtype \n",
      "---  ------           --------------  ----- \n",
      " 0   scientific_name  23296 non-null  object\n",
      " 1   park_name        23296 non-null  object\n",
      " 2   observations     23296 non-null  int64 \n",
      "dtypes: int64(1), object(2)\n",
      "memory usage: 546.1+ KB\n"
     ]
    }
   ],
   "source": [
    "print(observations.columns)\n",
    "print(\"\\n\")\n",
    "\n",
    "for column in list(observations.columns):\n",
    "    print(f\"{column} nunique:\\n{observations[column].nunique()}\\n\")\n",
    "observations.info()"
   ]
  },
  {
   "cell_type": "code",
   "execution_count": 10,
   "metadata": {},
   "outputs": [
    {
     "name": "stdout",
     "output_type": "stream",
     "text": [
      "['Great Smoky Mountains National Park' 'Yosemite National Park'\n",
      " 'Bryce National Park' 'Yellowstone National Park']\n",
      "3314739\n"
     ]
    }
   ],
   "source": [
    "print(observations['park_name'].unique())\n",
    "print(observations['observations'].sum())"
   ]
  },
  {
   "cell_type": "markdown",
   "metadata": {},
   "source": [
    "### Analysis"
   ]
  },
  {
   "cell_type": "markdown",
   "metadata": {},
   "source": [
    "#### species"
   ]
  },
  {
   "cell_type": "code",
   "execution_count": 11,
   "metadata": {},
   "outputs": [
    {
     "data": {
      "text/plain": [
       "5633"
      ]
     },
     "execution_count": 11,
     "metadata": {},
     "output_type": "execute_result"
    }
   ],
   "source": [
    "species_info.fillna(\"No Interventions\",inplace=True)\n",
    "\n",
    "species_info.groupby(['conservation_status']).scientific_name.size()\n",
    "(5633/len(species_info))*100\n",
    "len(species_info[species_info.conservation_status=='No Interventions'])"
   ]
  },
  {
   "cell_type": "code",
   "execution_count": 12,
   "metadata": {},
   "outputs": [
    {
     "data": {
      "text/html": [
       "<div>\n",
       "<style scoped>\n",
       "    .dataframe tbody tr th:only-of-type {\n",
       "        vertical-align: middle;\n",
       "    }\n",
       "\n",
       "    .dataframe tbody tr th {\n",
       "        vertical-align: top;\n",
       "    }\n",
       "\n",
       "    .dataframe thead th {\n",
       "        text-align: right;\n",
       "    }\n",
       "</style>\n",
       "<table border=\"1\" class=\"dataframe\">\n",
       "  <thead>\n",
       "    <tr style=\"text-align: right;\">\n",
       "      <th>conservation_status</th>\n",
       "      <th>Endangered</th>\n",
       "      <th>In Recovery</th>\n",
       "      <th>Species of Concern</th>\n",
       "      <th>Threatened</th>\n",
       "    </tr>\n",
       "    <tr>\n",
       "      <th>category</th>\n",
       "      <th></th>\n",
       "      <th></th>\n",
       "      <th></th>\n",
       "      <th></th>\n",
       "    </tr>\n",
       "  </thead>\n",
       "  <tbody>\n",
       "    <tr>\n",
       "      <th>Amphibian</th>\n",
       "      <td>1.0</td>\n",
       "      <td>NaN</td>\n",
       "      <td>4.0</td>\n",
       "      <td>2.0</td>\n",
       "    </tr>\n",
       "    <tr>\n",
       "      <th>Bird</th>\n",
       "      <td>4.0</td>\n",
       "      <td>3.0</td>\n",
       "      <td>72.0</td>\n",
       "      <td>NaN</td>\n",
       "    </tr>\n",
       "    <tr>\n",
       "      <th>Fish</th>\n",
       "      <td>3.0</td>\n",
       "      <td>NaN</td>\n",
       "      <td>4.0</td>\n",
       "      <td>4.0</td>\n",
       "    </tr>\n",
       "    <tr>\n",
       "      <th>Mammal</th>\n",
       "      <td>7.0</td>\n",
       "      <td>1.0</td>\n",
       "      <td>28.0</td>\n",
       "      <td>2.0</td>\n",
       "    </tr>\n",
       "    <tr>\n",
       "      <th>Nonvascular Plant</th>\n",
       "      <td>NaN</td>\n",
       "      <td>NaN</td>\n",
       "      <td>5.0</td>\n",
       "      <td>NaN</td>\n",
       "    </tr>\n",
       "    <tr>\n",
       "      <th>Reptile</th>\n",
       "      <td>NaN</td>\n",
       "      <td>NaN</td>\n",
       "      <td>5.0</td>\n",
       "      <td>NaN</td>\n",
       "    </tr>\n",
       "    <tr>\n",
       "      <th>Vascular Plant</th>\n",
       "      <td>1.0</td>\n",
       "      <td>NaN</td>\n",
       "      <td>43.0</td>\n",
       "      <td>2.0</td>\n",
       "    </tr>\n",
       "  </tbody>\n",
       "</table>\n",
       "</div>"
      ],
      "text/plain": [
       "conservation_status  Endangered  In Recovery  Species of Concern  Threatened\n",
       "category                                                                    \n",
       "Amphibian                   1.0          NaN                 4.0         2.0\n",
       "Bird                        4.0          3.0                72.0         NaN\n",
       "Fish                        3.0          NaN                 4.0         4.0\n",
       "Mammal                      7.0          1.0                28.0         2.0\n",
       "Nonvascular Plant           NaN          NaN                 5.0         NaN\n",
       "Reptile                     NaN          NaN                 5.0         NaN\n",
       "Vascular Plant              1.0          NaN                43.0         2.0"
      ]
     },
     "execution_count": 12,
     "metadata": {},
     "output_type": "execute_result"
    }
   ],
   "source": [
    "categoryConservation=species_info[species_info.conservation_status!='No Interventions']\\\n",
    ".groupby(['category','conservation_status']).scientific_name.size().unstack()\n",
    "categoryConservation"
   ]
  },
  {
   "cell_type": "markdown",
   "metadata": {},
   "source": [
    "Bivariate analyses are probably better represented by plots"
   ]
  },
  {
   "cell_type": "code",
   "execution_count": 13,
   "metadata": {},
   "outputs": [
    {
     "data": {
      "image/png": "[encoded data removed]",
      "text/plain": [
       "<Figure size 576x432 with 1 Axes>"
      ]
     },
     "metadata": {
      "needs_background": "light"
     },
     "output_type": "display_data"
    }
   ],
   "source": [
    "ax=categoryConservation.plot(kind='bar',figsize=(8,6),stacked=True)\n",
    "ax.set_xlabel(\"Category\")\n",
    "ax.set_ylabel(\"Number of species\")\n",
    "plt.savefig('Distribution of Conserved Species.png')#Needs to go before plt.show to be able to created\n",
    "plt.show()\n"
   ]
  },
  {
   "cell_type": "markdown",
   "metadata": {},
   "source": [
    "#### Are some species better protected than others?"
   ]
  },
  {
   "cell_type": "code",
   "execution_count": 14,
   "metadata": {},
   "outputs": [
    {
     "data": {
      "text/plain": [
       "5633"
      ]
     },
     "execution_count": 14,
     "metadata": {},
     "output_type": "execute_result"
    }
   ],
   "source": [
    "species_info['Is_Protected']=species_info.apply\\\n",
    "(lambda row:True if row['conservation_status']!='No Interventions' else False,axis=1)\n",
    "\n",
    "#正解：species['is_protected'] = species.conservation_status != 'No Intervention'\n",
    "species_info.head()\n",
    "len(species_info[species_info.Is_Protected==True])\n",
    "len(species_info[species_info.Is_Protected==False])"
   ]
  },
  {
   "cell_type": "code",
   "execution_count": 15,
   "metadata": {},
   "outputs": [
    {
     "name": "stdout",
     "output_type": "stream",
     "text": [
      "<class 'pandas.core.frame.DataFrame'>\n"
     ]
    },
    {
     "data": {
      "text/html": [
       "<div>\n",
       "<style scoped>\n",
       "    .dataframe tbody tr th:only-of-type {\n",
       "        vertical-align: middle;\n",
       "    }\n",
       "\n",
       "    .dataframe tbody tr th {\n",
       "        vertical-align: top;\n",
       "    }\n",
       "\n",
       "    .dataframe thead th {\n",
       "        text-align: right;\n",
       "    }\n",
       "</style>\n",
       "<table border=\"1\" class=\"dataframe\">\n",
       "  <thead>\n",
       "    <tr style=\"text-align: right;\">\n",
       "      <th></th>\n",
       "      <th>Category</th>\n",
       "      <th>Not Protected</th>\n",
       "      <th>Is Protected</th>\n",
       "    </tr>\n",
       "  </thead>\n",
       "  <tbody>\n",
       "    <tr>\n",
       "      <th>0</th>\n",
       "      <td>Amphibian</td>\n",
       "      <td>72</td>\n",
       "      <td>7</td>\n",
       "    </tr>\n",
       "    <tr>\n",
       "      <th>1</th>\n",
       "      <td>Bird</td>\n",
       "      <td>413</td>\n",
       "      <td>75</td>\n",
       "    </tr>\n",
       "    <tr>\n",
       "      <th>2</th>\n",
       "      <td>Fish</td>\n",
       "      <td>115</td>\n",
       "      <td>11</td>\n",
       "    </tr>\n",
       "    <tr>\n",
       "      <th>3</th>\n",
       "      <td>Mammal</td>\n",
       "      <td>146</td>\n",
       "      <td>30</td>\n",
       "    </tr>\n",
       "    <tr>\n",
       "      <th>4</th>\n",
       "      <td>Nonvascular Plant</td>\n",
       "      <td>328</td>\n",
       "      <td>5</td>\n",
       "    </tr>\n",
       "    <tr>\n",
       "      <th>5</th>\n",
       "      <td>Reptile</td>\n",
       "      <td>73</td>\n",
       "      <td>5</td>\n",
       "    </tr>\n",
       "    <tr>\n",
       "      <th>6</th>\n",
       "      <td>Vascular Plant</td>\n",
       "      <td>4216</td>\n",
       "      <td>46</td>\n",
       "    </tr>\n",
       "  </tbody>\n",
       "</table>\n",
       "</div>"
      ],
      "text/plain": [
       "            Category  Not Protected  Is Protected\n",
       "0          Amphibian             72             7\n",
       "1               Bird            413            75\n",
       "2               Fish            115            11\n",
       "3             Mammal            146            30\n",
       "4  Nonvascular Plant            328             5\n",
       "5            Reptile             73             5\n",
       "6     Vascular Plant           4216            46"
      ]
     },
     "execution_count": 15,
     "metadata": {},
     "output_type": "execute_result"
    }
   ],
   "source": [
    "#Look at how each species is protected\n",
    "# category_count=species_info.groupby(['category','Is_Protected']).scientific_name.count().unstack()\n",
    "# print(category_count)\n",
    "\n",
    "#Sample: Use pivot table to rename the columns\n",
    "\"\"\"category_counts = species.groupby(['category', 'is_protected'])\\\n",
    "                        .scientific_name.nunique()\\\n",
    "                        .reset_index()\\\n",
    "                        .pivot(columns='is_protected',\n",
    "                                      index='category',\n",
    "                                      values='scientific_name')\\\n",
    "                        .reset_index()\n",
    "category_counts.columns = ['category', 'not_protected', 'protected']\n",
    "\n",
    "category_counts\"\"\"\n",
    "\n",
    "category_counts=species_info.groupby(['category','Is_Protected'])\\\n",
    ".scientific_name\\\n",
    ".nunique()\\\n",
    ".reset_index()\\\n",
    ".pivot(columns='Is_Protected',index='category',values='scientific_name')\\\n",
    ".reset_index()\n",
    "\n",
    "category_counts.columns=['Category','Not Protected','Is Protected']\n",
    "print(type(category_counts))\n",
    "category_counts#9/26 我的數字和 CA 不同，來檢查一下"
   ]
  },
  {
   "cell_type": "code",
   "execution_count": 16,
   "metadata": {},
   "outputs": [
    {
     "data": {
      "text/html": [
       "<div>\n",
       "<style scoped>\n",
       "    .dataframe tbody tr th:only-of-type {\n",
       "        vertical-align: middle;\n",
       "    }\n",
       "\n",
       "    .dataframe tbody tr th {\n",
       "        vertical-align: top;\n",
       "    }\n",
       "\n",
       "    .dataframe thead th {\n",
       "        text-align: right;\n",
       "    }\n",
       "</style>\n",
       "<table border=\"1\" class=\"dataframe\">\n",
       "  <thead>\n",
       "    <tr style=\"text-align: right;\">\n",
       "      <th></th>\n",
       "      <th>Category</th>\n",
       "      <th>Not Protected</th>\n",
       "      <th>Is Protected</th>\n",
       "      <th>percent_protected</th>\n",
       "    </tr>\n",
       "  </thead>\n",
       "  <tbody>\n",
       "    <tr>\n",
       "      <th>0</th>\n",
       "      <td>Amphibian</td>\n",
       "      <td>72</td>\n",
       "      <td>7</td>\n",
       "      <td>8.860759</td>\n",
       "    </tr>\n",
       "    <tr>\n",
       "      <th>1</th>\n",
       "      <td>Bird</td>\n",
       "      <td>413</td>\n",
       "      <td>75</td>\n",
       "      <td>15.368852</td>\n",
       "    </tr>\n",
       "    <tr>\n",
       "      <th>2</th>\n",
       "      <td>Fish</td>\n",
       "      <td>115</td>\n",
       "      <td>11</td>\n",
       "      <td>8.730159</td>\n",
       "    </tr>\n",
       "    <tr>\n",
       "      <th>3</th>\n",
       "      <td>Mammal</td>\n",
       "      <td>146</td>\n",
       "      <td>30</td>\n",
       "      <td>17.045455</td>\n",
       "    </tr>\n",
       "    <tr>\n",
       "      <th>4</th>\n",
       "      <td>Nonvascular Plant</td>\n",
       "      <td>328</td>\n",
       "      <td>5</td>\n",
       "      <td>1.501502</td>\n",
       "    </tr>\n",
       "    <tr>\n",
       "      <th>5</th>\n",
       "      <td>Reptile</td>\n",
       "      <td>73</td>\n",
       "      <td>5</td>\n",
       "      <td>6.410256</td>\n",
       "    </tr>\n",
       "    <tr>\n",
       "      <th>6</th>\n",
       "      <td>Vascular Plant</td>\n",
       "      <td>4216</td>\n",
       "      <td>46</td>\n",
       "      <td>1.079305</td>\n",
       "    </tr>\n",
       "  </tbody>\n",
       "</table>\n",
       "</div>"
      ],
      "text/plain": [
       "            Category  Not Protected  Is Protected  percent_protected\n",
       "0          Amphibian             72             7           8.860759\n",
       "1               Bird            413            75          15.368852\n",
       "2               Fish            115            11           8.730159\n",
       "3             Mammal            146            30          17.045455\n",
       "4  Nonvascular Plant            328             5           1.501502\n",
       "5            Reptile             73             5           6.410256\n",
       "6     Vascular Plant           4216            46           1.079305"
      ]
     },
     "execution_count": 16,
     "metadata": {},
     "output_type": "execute_result"
    }
   ],
   "source": [
    "category_counts['percent_protected']\\\n",
    "=(category_counts['Is Protected']\\\n",
    "/(category_counts['Not Protected']+category_counts['Is Protected']))*100\n",
    "\n",
    "category_counts"
   ]
  },
  {
   "cell_type": "markdown",
   "metadata": {},
   "source": [
    "The above table seems to suggest different degrees of protection among categories.  Chi-square tests will verify whether the differences are staistically significant. "
   ]
  },
  {
   "cell_type": "code",
   "execution_count": 17,
   "metadata": {},
   "outputs": [
    {
     "name": "stdout",
     "output_type": "stream",
     "text": [
      "            Category  Not Protected  Is Protected  percent_protected\n",
      "0          Amphibian             72             7           8.860759\n",
      "1               Bird            413            75          15.368852\n",
      "2               Fish            115            11           8.730159\n",
      "3             Mammal            146            30          17.045455\n",
      "4  Nonvascular Plant            328             5           1.501502\n",
      "5            Reptile             73             5           6.410256\n",
      "6     Vascular Plant           4216            46           1.079305\n",
      "The P of chi-square done on amphibians and birds:0.17582779760374145\n",
      "Differences between Amphibian and Bird are not statistically significant\n",
      "The P of chi-square done on mammals and nonvascular plants:1.681893074469572e-11\n",
      "Differences between Mammal and  Nonvascular Plant  are statistically significant\n",
      "The P of chi-square done on mammals and reptiles:8.823604674229684e-32\n",
      "Differences between Mammal and  Reptile  are statistically significant\n"
     ]
    }
   ],
   "source": [
    "#參考以下 chi-square code \n",
    "# heartfailure_crosstab = pd.crosstab(df['obesity'], \\\n",
    "# df['heart_failure'], margins=True, margins_name=\"subtotal\")\n",
    "# chi, p, dof, expected = chi2_contingency(heartfailure_crosstab)\n",
    "\n",
    "category_protection_crosstab=pd.crosstab\\\n",
    "(category_counts['Category'],category_counts['percent_protected']\\\n",
    " , margins=True, margins_name=\"subtotal\")\n",
    "\n",
    "chi,p,dof,expected=chi2_contingency(category_protection_crosstab)\n",
    "\n",
    "#以上方式看不出哪兩個 category 有差，以下是 sample 的方法\n",
    "\n",
    "print(category_counts)\n",
    "#Amphibian and Bird\n",
    "contingency_A_B=[[7,73],\n",
    "                [79,442]]\n",
    "chi,p,dof,expected=chi2_contingency(contingency_A_B)\n",
    "print(f\"The P of chi-square done on amphibians and birds:{p}\")\n",
    "print(\"Differences between Amphibian and Bird are not statistically significant\" )\n",
    "#Mammal and Nonvascular Plant\n",
    "contingency_M_N=[[38,176],\n",
    "                [5,328]]\n",
    "chi,p,dof,expected=chi2_contingency(contingency_M_N)\n",
    "print(f\"The P of chi-square done on mammals and nonvascular plants:{p}\")\n",
    "print(\"Differences between Mammal and  Nonvascular Plant  are statistically significant\" )\n",
    "#Mammal and Reptile\n",
    "contingency_M_R=[[38,176],\n",
    "                [74,5]]\n",
    "chi,p,dof,expected=chi2_contingency(contingency_M_R)\n",
    "print(f\"The P of chi-square done on mammals and reptiles:{p}\")\n",
    "print(\"Differences between Mammal and  Reptile  are statistically significant\" )"
   ]
  },
  {
   "cell_type": "markdown",
   "metadata": {},
   "source": [
    "#### Look at the observation data\n",
    "\n",
    "This section will address which animals are more prevalent in the parks. But I am not sure why only mammals are considered. I'll check which category has the most observations first.And identify the most prevalent animal of that category. \n",
    "\n"
   ]
  },
  {
   "cell_type": "code",
   "execution_count": 18,
   "metadata": {},
   "outputs": [
    {
     "data": {
      "text/html": [
       "<div>\n",
       "<style scoped>\n",
       "    .dataframe tbody tr th:only-of-type {\n",
       "        vertical-align: middle;\n",
       "    }\n",
       "\n",
       "    .dataframe tbody tr th {\n",
       "        vertical-align: top;\n",
       "    }\n",
       "\n",
       "    .dataframe thead th {\n",
       "        text-align: right;\n",
       "    }\n",
       "</style>\n",
       "<table border=\"1\" class=\"dataframe\">\n",
       "  <thead>\n",
       "    <tr style=\"text-align: right;\">\n",
       "      <th></th>\n",
       "      <th>category</th>\n",
       "      <th>scientific_name</th>\n",
       "      <th>common_names</th>\n",
       "      <th>conservation_status</th>\n",
       "      <th>Is_Protected</th>\n",
       "      <th>park_name</th>\n",
       "      <th>observations</th>\n",
       "    </tr>\n",
       "  </thead>\n",
       "  <tbody>\n",
       "    <tr>\n",
       "      <th>0</th>\n",
       "      <td>Mammal</td>\n",
       "      <td>Clethrionomys gapperi gapperi</td>\n",
       "      <td>Gapper's Red-Backed Vole</td>\n",
       "      <td>No Interventions</td>\n",
       "      <td>False</td>\n",
       "      <td>Bryce National Park</td>\n",
       "      <td>130</td>\n",
       "    </tr>\n",
       "    <tr>\n",
       "      <th>1</th>\n",
       "      <td>Mammal</td>\n",
       "      <td>Clethrionomys gapperi gapperi</td>\n",
       "      <td>Gapper's Red-Backed Vole</td>\n",
       "      <td>No Interventions</td>\n",
       "      <td>False</td>\n",
       "      <td>Yellowstone National Park</td>\n",
       "      <td>270</td>\n",
       "    </tr>\n",
       "    <tr>\n",
       "      <th>2</th>\n",
       "      <td>Mammal</td>\n",
       "      <td>Clethrionomys gapperi gapperi</td>\n",
       "      <td>Gapper's Red-Backed Vole</td>\n",
       "      <td>No Interventions</td>\n",
       "      <td>False</td>\n",
       "      <td>Great Smoky Mountains National Park</td>\n",
       "      <td>98</td>\n",
       "    </tr>\n",
       "    <tr>\n",
       "      <th>3</th>\n",
       "      <td>Mammal</td>\n",
       "      <td>Clethrionomys gapperi gapperi</td>\n",
       "      <td>Gapper's Red-Backed Vole</td>\n",
       "      <td>No Interventions</td>\n",
       "      <td>False</td>\n",
       "      <td>Yosemite National Park</td>\n",
       "      <td>117</td>\n",
       "    </tr>\n",
       "    <tr>\n",
       "      <th>4</th>\n",
       "      <td>Mammal</td>\n",
       "      <td>Bos bison</td>\n",
       "      <td>American Bison, Bison</td>\n",
       "      <td>No Interventions</td>\n",
       "      <td>False</td>\n",
       "      <td>Yosemite National Park</td>\n",
       "      <td>128</td>\n",
       "    </tr>\n",
       "  </tbody>\n",
       "</table>\n",
       "</div>"
      ],
      "text/plain": [
       "  category                scientific_name              common_names  \\\n",
       "0   Mammal  Clethrionomys gapperi gapperi  Gapper's Red-Backed Vole   \n",
       "1   Mammal  Clethrionomys gapperi gapperi  Gapper's Red-Backed Vole   \n",
       "2   Mammal  Clethrionomys gapperi gapperi  Gapper's Red-Backed Vole   \n",
       "3   Mammal  Clethrionomys gapperi gapperi  Gapper's Red-Backed Vole   \n",
       "4   Mammal                      Bos bison     American Bison, Bison   \n",
       "\n",
       "  conservation_status  Is_Protected                            park_name  \\\n",
       "0    No Interventions         False                  Bryce National Park   \n",
       "1    No Interventions         False            Yellowstone National Park   \n",
       "2    No Interventions         False  Great Smoky Mountains National Park   \n",
       "3    No Interventions         False               Yosemite National Park   \n",
       "4    No Interventions         False               Yosemite National Park   \n",
       "\n",
       "   observations  \n",
       "0           130  \n",
       "1           270  \n",
       "2            98  \n",
       "3           117  \n",
       "4           128  "
      ]
     },
     "execution_count": 18,
     "metadata": {},
     "output_type": "execute_result"
    }
   ],
   "source": [
    "species_observations=species_info.merge(observations,how='outer')\n",
    "species_observations.head()"
   ]
  },
  {
   "cell_type": "code",
   "execution_count": 19,
   "metadata": {},
   "outputs": [
    {
     "data": {
      "text/html": [
       "<div>\n",
       "<style scoped>\n",
       "    .dataframe tbody tr th:only-of-type {\n",
       "        vertical-align: middle;\n",
       "    }\n",
       "\n",
       "    .dataframe tbody tr th {\n",
       "        vertical-align: top;\n",
       "    }\n",
       "\n",
       "    .dataframe thead th {\n",
       "        text-align: right;\n",
       "    }\n",
       "</style>\n",
       "<table border=\"1\" class=\"dataframe\">\n",
       "  <thead>\n",
       "    <tr style=\"text-align: right;\">\n",
       "      <th></th>\n",
       "      <th>Is_Protected</th>\n",
       "      <th>observations</th>\n",
       "    </tr>\n",
       "    <tr>\n",
       "      <th>category</th>\n",
       "      <th></th>\n",
       "      <th></th>\n",
       "    </tr>\n",
       "  </thead>\n",
       "  <tbody>\n",
       "    <tr>\n",
       "      <th>Amphibian</th>\n",
       "      <td>28</td>\n",
       "      <td>45068</td>\n",
       "    </tr>\n",
       "    <tr>\n",
       "      <th>Bird</th>\n",
       "      <td>348</td>\n",
       "      <td>332371</td>\n",
       "    </tr>\n",
       "    <tr>\n",
       "      <th>Fish</th>\n",
       "      <td>48</td>\n",
       "      <td>72901</td>\n",
       "    </tr>\n",
       "    <tr>\n",
       "      <th>Mammal</th>\n",
       "      <td>232</td>\n",
       "      <td>163120</td>\n",
       "    </tr>\n",
       "    <tr>\n",
       "      <th>Nonvascular Plant</th>\n",
       "      <td>20</td>\n",
       "      <td>190653</td>\n",
       "    </tr>\n",
       "    <tr>\n",
       "      <th>Reptile</th>\n",
       "      <td>20</td>\n",
       "      <td>45822</td>\n",
       "    </tr>\n",
       "    <tr>\n",
       "      <th>Vascular Plant</th>\n",
       "      <td>184</td>\n",
       "      <td>2795312</td>\n",
       "    </tr>\n",
       "  </tbody>\n",
       "</table>\n",
       "</div>"
      ],
      "text/plain": [
       "                   Is_Protected  observations\n",
       "category                                     \n",
       "Amphibian                    28         45068\n",
       "Bird                        348        332371\n",
       "Fish                         48         72901\n",
       "Mammal                      232        163120\n",
       "Nonvascular Plant            20        190653\n",
       "Reptile                      20         45822\n",
       "Vascular Plant              184       2795312"
      ]
     },
     "execution_count": 19,
     "metadata": {},
     "output_type": "execute_result"
    }
   ],
   "source": [
    "species_observations_groupedby_category=species_observations.groupby('category')\\\n",
    ".sum()\n",
    "species_observations_groupedby_category"
   ]
  },
  {
   "cell_type": "markdown",
   "metadata": {},
   "source": [
    "While birds and nonvascular plants have more sightings, the most seen \"animal\" are mammals. Hence, it's assumed that the most prevalent animal should be a mammal."
   ]
  },
  {
   "cell_type": "markdown",
   "metadata": {},
   "source": [
    "Since the primary audience are conservation professionals, I think I should discuss species in terms of their scientific names.As far as I know, the first part of the scientific name represents \"genus\" and plays a fundamental part in the naming system. \n",
    "\n",
    "**But using the common names provides more opportunities for practicing string manipulation**, so I'll stick with it. "
   ]
  },
  {
   "cell_type": "code",
   "execution_count": 20,
   "metadata": {},
   "outputs": [
    {
     "data": {
      "text/plain": [
       "\"def remove_punctuations(text):\\n    for punctuation in string.punctuation:\\n        text = text.replace(punctuation, '')\\n    return text\""
      ]
     },
     "execution_count": 20,
     "metadata": {},
     "output_type": "execute_result"
    }
   ],
   "source": [
    "#Remove punctuation\n",
    "import string\n",
    "\n",
    "def remove_punctuation(text):\n",
    "    for punctuation in string.punctuation:\n",
    "        text=text.replace(punctuation, \"\")\n",
    "    return text\n",
    "\n",
    "\"\"\"def remove_punctuations(text):\n",
    "    for punctuation in string.punctuation:\n",
    "        text = text.replace(punctuation, '')\n",
    "    return text\"\"\""
   ]
  },
  {
   "cell_type": "code",
   "execution_count": 21,
   "metadata": {},
   "outputs": [
    {
     "data": {
      "text/plain": [
       "list"
      ]
     },
     "execution_count": 21,
     "metadata": {},
     "output_type": "execute_result"
    }
   ],
   "source": [
    "mammal_common_names_no_punct=\\\n",
    "species_info[species_info.category=='Mammal']\\\n",
    ".common_names\\\n",
    ".apply(remove_punctuation)\\\n",
    ".str\\\n",
    ".split()\\\n",
    ".to_list()\n",
    "\n",
    "#The \".str\\.split\\.to_list()\" part comes from the sample. \n",
    "#Actually I dont' understand why \"to_list()\" would turn each cell in the column into a list\n",
    "\n",
    "\"\"\"common_Names = species[species.category == \"Mammal\"]\\\n",
    "    .common_names\\\n",
    "    .apply(remove_punctuations)\"\"\"\n",
    "\n",
    "mammal_common_names_no_punct\n",
    "type(mammal_common_names_no_punct)"
   ]
  },
  {
   "cell_type": "code",
   "execution_count": 22,
   "metadata": {},
   "outputs": [
    {
     "data": {
      "text/plain": [
       "[['Gappers', 'RedBacked', 'Vole'],\n",
       " ['American', 'Bison'],\n",
       " ['Aurochs', 'Domestic', 'Cattle', 'Feral', 'Domesticated'],\n",
       " ['Domestic', 'Sheep', 'Mouflon', 'Red', 'Feral'],\n",
       " ['Wapiti', 'Or', 'Elk'],\n",
       " ['WhiteTailed', 'Deer']]"
      ]
     },
     "execution_count": 22,
     "metadata": {},
     "output_type": "execute_result"
    }
   ],
   "source": [
    "#Then, identify and remove duplicates within each nested list\n",
    "no_duplicates_mammal_common_names=[]\n",
    "for item in mammal_common_names_no_punct:\n",
    "    item=list(dict.fromkeys(item))\n",
    "    no_duplicates_mammal_common_names.append(item)\n",
    "no_duplicates_mammal_common_names[:6]    "
   ]
  },
  {
   "cell_type": "code",
   "execution_count": 23,
   "metadata": {},
   "outputs": [
    {
     "name": "stdout",
     "output_type": "stream",
     "text": [
      "0      Gappers\n",
      "1    RedBacked\n",
      "2         Vole\n",
      "3     American\n",
      "4        Bison\n",
      "dtype: object\n"
     ]
    },
    {
     "data": {
      "text/plain": [
       "Bat            23\n",
       "Shrew          18\n",
       "Myotis         17\n",
       "Mouse          16\n",
       "Chipmunk       13\n",
       "               ..\n",
       "House           1\n",
       "Stones          1\n",
       "WhiteFooted     1\n",
       "Cotton          1\n",
       "BroadFooted     1\n",
       "Length: 204, dtype: int64"
      ]
     },
     "execution_count": 23,
     "metadata": {},
     "output_type": "execute_result"
    }
   ],
   "source": [
    "name_key_word_list=[]\n",
    "kw_count=[]\n",
    "count=0\n",
    "\n",
    "for item in no_duplicates_mammal_common_names:\n",
    "    for subitem in item:\n",
    "        name_key_word_list.append(subitem)\n",
    "        \n",
    "name_key_word_Series=pd.Series(name_key_word_list)     \n",
    "print(name_key_word_Series.head())\n",
    "name_key_word_Series.value_counts()"
   ]
  },
  {
   "cell_type": "markdown",
   "metadata": {},
   "source": [
    "#### Identify the species that are bats"
   ]
  },
  {
   "cell_type": "code",
   "execution_count": 24,
   "metadata": {},
   "outputs": [
    {
     "data": {
      "text/html": [
       "<div>\n",
       "<style scoped>\n",
       "    .dataframe tbody tr th:only-of-type {\n",
       "        vertical-align: middle;\n",
       "    }\n",
       "\n",
       "    .dataframe tbody tr th {\n",
       "        vertical-align: top;\n",
       "    }\n",
       "\n",
       "    .dataframe thead th {\n",
       "        text-align: right;\n",
       "    }\n",
       "</style>\n",
       "<table border=\"1\" class=\"dataframe\">\n",
       "  <thead>\n",
       "    <tr style=\"text-align: right;\">\n",
       "      <th></th>\n",
       "      <th>category</th>\n",
       "      <th>scientific_name</th>\n",
       "      <th>common_names</th>\n",
       "      <th>conservation_status</th>\n",
       "      <th>Is_Protected</th>\n",
       "      <th>park_name</th>\n",
       "      <th>observations</th>\n",
       "      <th>Is_Bat</th>\n",
       "    </tr>\n",
       "  </thead>\n",
       "  <tbody>\n",
       "    <tr>\n",
       "      <th>0</th>\n",
       "      <td>Mammal</td>\n",
       "      <td>Clethrionomys gapperi gapperi</td>\n",
       "      <td>Gapper's Red-Backed Vole</td>\n",
       "      <td>No Interventions</td>\n",
       "      <td>False</td>\n",
       "      <td>Bryce National Park</td>\n",
       "      <td>130</td>\n",
       "      <td>False</td>\n",
       "    </tr>\n",
       "    <tr>\n",
       "      <th>1</th>\n",
       "      <td>Mammal</td>\n",
       "      <td>Clethrionomys gapperi gapperi</td>\n",
       "      <td>Gapper's Red-Backed Vole</td>\n",
       "      <td>No Interventions</td>\n",
       "      <td>False</td>\n",
       "      <td>Yellowstone National Park</td>\n",
       "      <td>270</td>\n",
       "      <td>False</td>\n",
       "    </tr>\n",
       "    <tr>\n",
       "      <th>2</th>\n",
       "      <td>Mammal</td>\n",
       "      <td>Clethrionomys gapperi gapperi</td>\n",
       "      <td>Gapper's Red-Backed Vole</td>\n",
       "      <td>No Interventions</td>\n",
       "      <td>False</td>\n",
       "      <td>Great Smoky Mountains National Park</td>\n",
       "      <td>98</td>\n",
       "      <td>False</td>\n",
       "    </tr>\n",
       "    <tr>\n",
       "      <th>3</th>\n",
       "      <td>Mammal</td>\n",
       "      <td>Clethrionomys gapperi gapperi</td>\n",
       "      <td>Gapper's Red-Backed Vole</td>\n",
       "      <td>No Interventions</td>\n",
       "      <td>False</td>\n",
       "      <td>Yosemite National Park</td>\n",
       "      <td>117</td>\n",
       "      <td>False</td>\n",
       "    </tr>\n",
       "    <tr>\n",
       "      <th>4</th>\n",
       "      <td>Mammal</td>\n",
       "      <td>Bos bison</td>\n",
       "      <td>American Bison, Bison</td>\n",
       "      <td>No Interventions</td>\n",
       "      <td>False</td>\n",
       "      <td>Yosemite National Park</td>\n",
       "      <td>128</td>\n",
       "      <td>False</td>\n",
       "    </tr>\n",
       "    <tr>\n",
       "      <th>5</th>\n",
       "      <td>Mammal</td>\n",
       "      <td>Bos bison</td>\n",
       "      <td>American Bison, Bison</td>\n",
       "      <td>No Interventions</td>\n",
       "      <td>False</td>\n",
       "      <td>Yellowstone National Park</td>\n",
       "      <td>269</td>\n",
       "      <td>False</td>\n",
       "    </tr>\n",
       "    <tr>\n",
       "      <th>6</th>\n",
       "      <td>Mammal</td>\n",
       "      <td>Bos bison</td>\n",
       "      <td>American Bison, Bison</td>\n",
       "      <td>No Interventions</td>\n",
       "      <td>False</td>\n",
       "      <td>Bryce National Park</td>\n",
       "      <td>68</td>\n",
       "      <td>False</td>\n",
       "    </tr>\n",
       "    <tr>\n",
       "      <th>7</th>\n",
       "      <td>Mammal</td>\n",
       "      <td>Bos bison</td>\n",
       "      <td>American Bison, Bison</td>\n",
       "      <td>No Interventions</td>\n",
       "      <td>False</td>\n",
       "      <td>Great Smoky Mountains National Park</td>\n",
       "      <td>77</td>\n",
       "      <td>False</td>\n",
       "    </tr>\n",
       "    <tr>\n",
       "      <th>8</th>\n",
       "      <td>Mammal</td>\n",
       "      <td>Bos taurus</td>\n",
       "      <td>Aurochs, Aurochs, Domestic Cattle (Feral), Dom...</td>\n",
       "      <td>No Interventions</td>\n",
       "      <td>False</td>\n",
       "      <td>Bryce National Park</td>\n",
       "      <td>99</td>\n",
       "      <td>False</td>\n",
       "    </tr>\n",
       "    <tr>\n",
       "      <th>9</th>\n",
       "      <td>Mammal</td>\n",
       "      <td>Bos taurus</td>\n",
       "      <td>Aurochs, Aurochs, Domestic Cattle (Feral), Dom...</td>\n",
       "      <td>No Interventions</td>\n",
       "      <td>False</td>\n",
       "      <td>Yosemite National Park</td>\n",
       "      <td>124</td>\n",
       "      <td>False</td>\n",
       "    </tr>\n",
       "  </tbody>\n",
       "</table>\n",
       "</div>"
      ],
      "text/plain": [
       "  category                scientific_name  \\\n",
       "0   Mammal  Clethrionomys gapperi gapperi   \n",
       "1   Mammal  Clethrionomys gapperi gapperi   \n",
       "2   Mammal  Clethrionomys gapperi gapperi   \n",
       "3   Mammal  Clethrionomys gapperi gapperi   \n",
       "4   Mammal                      Bos bison   \n",
       "5   Mammal                      Bos bison   \n",
       "6   Mammal                      Bos bison   \n",
       "7   Mammal                      Bos bison   \n",
       "8   Mammal                     Bos taurus   \n",
       "9   Mammal                     Bos taurus   \n",
       "\n",
       "                                        common_names conservation_status  \\\n",
       "0                           Gapper's Red-Backed Vole    No Interventions   \n",
       "1                           Gapper's Red-Backed Vole    No Interventions   \n",
       "2                           Gapper's Red-Backed Vole    No Interventions   \n",
       "3                           Gapper's Red-Backed Vole    No Interventions   \n",
       "4                              American Bison, Bison    No Interventions   \n",
       "5                              American Bison, Bison    No Interventions   \n",
       "6                              American Bison, Bison    No Interventions   \n",
       "7                              American Bison, Bison    No Interventions   \n",
       "8  Aurochs, Aurochs, Domestic Cattle (Feral), Dom...    No Interventions   \n",
       "9  Aurochs, Aurochs, Domestic Cattle (Feral), Dom...    No Interventions   \n",
       "\n",
       "   Is_Protected                            park_name  observations  Is_Bat  \n",
       "0         False                  Bryce National Park           130   False  \n",
       "1         False            Yellowstone National Park           270   False  \n",
       "2         False  Great Smoky Mountains National Park            98   False  \n",
       "3         False               Yosemite National Park           117   False  \n",
       "4         False               Yosemite National Park           128   False  \n",
       "5         False            Yellowstone National Park           269   False  \n",
       "6         False                  Bryce National Park            68   False  \n",
       "7         False  Great Smoky Mountains National Park            77   False  \n",
       "8         False                  Bryce National Park            99   False  \n",
       "9         False               Yosemite National Park           124   False  "
      ]
     },
     "execution_count": 24,
     "metadata": {},
     "output_type": "execute_result"
    }
   ],
   "source": [
    "# species_observations['Is_Bat']=species_observations\\\n",
    "# [species_observations.common_names.str.contains('\\bbat\\b')]\n",
    "# species_observations.head()\n",
    "\n",
    "#Sample:\n",
    "# species['is_bat'] = species.common_names.str.contains(r\"\\bBat\\b\", regex = True)\n",
    "\n",
    "species_observations['Is_Bat']=species_observations.common_names.str.contains(r'\\bBat\\b',regex=True)\n",
    "species_observations.head(10)"
   ]
  },
  {
   "cell_type": "code",
   "execution_count": 25,
   "metadata": {},
   "outputs": [
    {
     "data": {
      "text/html": [
       "<div>\n",
       "<style scoped>\n",
       "    .dataframe tbody tr th:only-of-type {\n",
       "        vertical-align: middle;\n",
       "    }\n",
       "\n",
       "    .dataframe tbody tr th {\n",
       "        vertical-align: top;\n",
       "    }\n",
       "\n",
       "    .dataframe thead th {\n",
       "        text-align: right;\n",
       "    }\n",
       "</style>\n",
       "<table border=\"1\" class=\"dataframe\">\n",
       "  <thead>\n",
       "    <tr style=\"text-align: right;\">\n",
       "      <th></th>\n",
       "      <th>category</th>\n",
       "      <th>common_names</th>\n",
       "      <th>Is_Protected</th>\n",
       "      <th>park_name</th>\n",
       "      <th>observations</th>\n",
       "    </tr>\n",
       "  </thead>\n",
       "  <tbody>\n",
       "    <tr>\n",
       "      <th>304</th>\n",
       "      <td>Mammal</td>\n",
       "      <td>Rafinesque's Big-Eared Bat</td>\n",
       "      <td>False</td>\n",
       "      <td>Yosemite National Park</td>\n",
       "      <td>188</td>\n",
       "    </tr>\n",
       "    <tr>\n",
       "      <th>305</th>\n",
       "      <td>Mammal</td>\n",
       "      <td>Rafinesque's Big-Eared Bat</td>\n",
       "      <td>False</td>\n",
       "      <td>Great Smoky Mountains National Park</td>\n",
       "      <td>80</td>\n",
       "    </tr>\n",
       "    <tr>\n",
       "      <th>306</th>\n",
       "      <td>Mammal</td>\n",
       "      <td>Rafinesque's Big-Eared Bat</td>\n",
       "      <td>False</td>\n",
       "      <td>Bryce National Park</td>\n",
       "      <td>57</td>\n",
       "    </tr>\n",
       "    <tr>\n",
       "      <th>307</th>\n",
       "      <td>Mammal</td>\n",
       "      <td>Rafinesque's Big-Eared Bat</td>\n",
       "      <td>False</td>\n",
       "      <td>Yellowstone National Park</td>\n",
       "      <td>259</td>\n",
       "    </tr>\n",
       "    <tr>\n",
       "      <th>308</th>\n",
       "      <td>Mammal</td>\n",
       "      <td>Big Brown Bat</td>\n",
       "      <td>True</td>\n",
       "      <td>Yellowstone National Park</td>\n",
       "      <td>227</td>\n",
       "    </tr>\n",
       "  </tbody>\n",
       "</table>\n",
       "</div>"
      ],
      "text/plain": [
       "    category                common_names  Is_Protected  \\\n",
       "304   Mammal  Rafinesque's Big-Eared Bat         False   \n",
       "305   Mammal  Rafinesque's Big-Eared Bat         False   \n",
       "306   Mammal  Rafinesque's Big-Eared Bat         False   \n",
       "307   Mammal  Rafinesque's Big-Eared Bat         False   \n",
       "308   Mammal               Big Brown Bat          True   \n",
       "\n",
       "                               park_name  observations  \n",
       "304               Yosemite National Park           188  \n",
       "305  Great Smoky Mountains National Park            80  \n",
       "306                  Bryce National Park            57  \n",
       "307            Yellowstone National Park           259  \n",
       "308            Yellowstone National Park           227  "
      ]
     },
     "execution_count": 25,
     "metadata": {},
     "output_type": "execute_result"
    }
   ],
   "source": [
    "Is_Bat_df=species_observations[species_observations.Is_Bat==True]\n",
    "Is_Bat_df=Is_Bat_df[['category','common_names','Is_Protected','park_name','observations']]\n",
    "Is_Bat_df.observations.sum()\n",
    "Not_Bat_df=species_observations[species_observations.Is_Bat==False]\n",
    "Is_Bat_df.head()"
   ]
  },
  {
   "cell_type": "code",
   "execution_count": 26,
   "metadata": {},
   "outputs": [],
   "source": [
    "#Are there more of them protected than not protected (better so)? Find out the condition of each park. \n",
    "Is_Bat_grouped_by_park_and_protection_state\\\n",
    "=Is_Bat_df.groupby(['park_name','Is_Protected']).observations.sum().unstack()\n",
    "\n",
    "Is_Bat_grouped_by_park_and_protection_state.columns=['Not-Protected','Protected']\n",
    "Is_Bat_grouped_by_park_and_protection_state['Percent Protected']\\\n",
    "=(Is_Bat_grouped_by_park_and_protection_state.Protected\\\n",
    "/(Is_Bat_grouped_by_park_and_protection_state.Protected\\\n",
    "  +Is_Bat_grouped_by_park_and_protection_state['Not-Protected']))*100\n"
   ]
  },
  {
   "cell_type": "code",
   "execution_count": 27,
   "metadata": {},
   "outputs": [
    {
     "data": {
      "text/html": [
       "<div>\n",
       "<style scoped>\n",
       "    .dataframe tbody tr th:only-of-type {\n",
       "        vertical-align: middle;\n",
       "    }\n",
       "\n",
       "    .dataframe tbody tr th {\n",
       "        vertical-align: top;\n",
       "    }\n",
       "\n",
       "    .dataframe thead th {\n",
       "        text-align: right;\n",
       "    }\n",
       "</style>\n",
       "<table border=\"1\" class=\"dataframe\">\n",
       "  <thead>\n",
       "    <tr style=\"text-align: right;\">\n",
       "      <th></th>\n",
       "      <th>park_name</th>\n",
       "      <th>Is_Protected</th>\n",
       "      <th>observations</th>\n",
       "    </tr>\n",
       "  </thead>\n",
       "  <tbody>\n",
       "    <tr>\n",
       "      <th>0</th>\n",
       "      <td>Bryce National Park</td>\n",
       "      <td>False</td>\n",
       "      <td>1596</td>\n",
       "    </tr>\n",
       "    <tr>\n",
       "      <th>1</th>\n",
       "      <td>Bryce National Park</td>\n",
       "      <td>True</td>\n",
       "      <td>1837</td>\n",
       "    </tr>\n",
       "    <tr>\n",
       "      <th>2</th>\n",
       "      <td>Great Smoky Mountains National Park</td>\n",
       "      <td>False</td>\n",
       "      <td>1299</td>\n",
       "    </tr>\n",
       "    <tr>\n",
       "      <th>3</th>\n",
       "      <td>Great Smoky Mountains National Park</td>\n",
       "      <td>True</td>\n",
       "      <td>1112</td>\n",
       "    </tr>\n",
       "    <tr>\n",
       "      <th>4</th>\n",
       "      <td>Yellowstone National Park</td>\n",
       "      <td>False</td>\n",
       "      <td>4044</td>\n",
       "    </tr>\n",
       "    <tr>\n",
       "      <th>5</th>\n",
       "      <td>Yellowstone National Park</td>\n",
       "      <td>True</td>\n",
       "      <td>4318</td>\n",
       "    </tr>\n",
       "    <tr>\n",
       "      <th>6</th>\n",
       "      <td>Yosemite National Park</td>\n",
       "      <td>False</td>\n",
       "      <td>2345</td>\n",
       "    </tr>\n",
       "    <tr>\n",
       "      <th>7</th>\n",
       "      <td>Yosemite National Park</td>\n",
       "      <td>True</td>\n",
       "      <td>2441</td>\n",
       "    </tr>\n",
       "  </tbody>\n",
       "</table>\n",
       "</div>"
      ],
      "text/plain": [
       "                             park_name  Is_Protected  observations\n",
       "0                  Bryce National Park         False          1596\n",
       "1                  Bryce National Park          True          1837\n",
       "2  Great Smoky Mountains National Park         False          1299\n",
       "3  Great Smoky Mountains National Park          True          1112\n",
       "4            Yellowstone National Park         False          4044\n",
       "5            Yellowstone National Park          True          4318\n",
       "6               Yosemite National Park         False          2345\n",
       "7               Yosemite National Park          True          2441"
      ]
     },
     "execution_count": 27,
     "metadata": {},
     "output_type": "execute_result"
    }
   ],
   "source": [
    "\n",
    "Is_Bat_df_for_bar_chart=Is_Bat_df[['Is_Protected','park_name','observations']]\n",
    "Is_Bat_df_for_bar_chart=Is_Bat_df_for_bar_chart\\\n",
    ".groupby(['park_name','Is_Protected'])\\\n",
    "         .observations.sum().reset_index()\n",
    "Is_Bat_df_for_bar_chart.head(30)"
   ]
  },
  {
   "cell_type": "code",
   "execution_count": 28,
   "metadata": {},
   "outputs": [
    {
     "data": {
      "image/png": "[encoded data removed]",
      "text/plain": [
       "<Figure size 432x288 with 1 Axes>"
      ]
     },
     "metadata": {
      "needs_background": "light"
     },
     "output_type": "display_data"
    }
   ],
   "source": [
    "#In the sample, the above table is followed by a side-by-side bar chart\n",
    "ax=sn.barplot(x='park_name',y='observations',hue='Is_Protected',data=Is_Bat_df_for_bar_chart)\n",
    "ax.set(xlabel='Park Name',ylabel='Sightings')\n",
    "ax.set_xticklabels(list(Is_Bat_df_for_bar_chart['park_name'].unique()),rotation=10)\n",
    "plt.title('Proportions of Protected and Non-Protected Bats in the Four National Parks')\n",
    "plt.savefig('Proportions of Protected and Non-Protected Bats in the Four National Parks.png')\n",
    "plt.show()"
   ]
  },
  {
   "cell_type": "markdown",
   "metadata": {},
   "source": [
    "### Conclusions\n",
    "Below are the answers to the questions:\n",
    "\n",
    "1. What are the conservation status of the species in the four national parks?(Sample:What is the distribution of conservation status for species? Are certain types of species more likely to be endangered?)\n",
    "A majority of 96.7% of the species receive no conservation interventions. Among the conserved, mammals are the largest category. \n",
    "\n",
    "\n",
    "2. Is there a significant difference between the conservation status of the species?(Sample:Are the differences between species and their conservation status significant?)\n",
    "Regarding animal species, mammals are better protected than reptiles to a significant degree. Animals and plants combined, mammals are better protected than vascular plants. \n",
    "\n",
    "3. Which animals are most often sighted in each park?(Sample:Which animal is most prevalent and what is their distribution amongst parks?)\n",
    "Bats are the most various animal in the parks, with 23 kinds recorded (in terms of common names, not scientific names). \n",
    "\n",
    "4. Are there animals that generally need to be conserved the most? In which park are they conserved better/worst?\n",
    "Bryce National Park has the highest percent of protected bat species, at 54% , while over half of bat species in the Great Smoky Mountains National Park do not need conservation interventions. "
   ]
  },
  {
   "cell_type": "markdown",
   "metadata": {},
   "source": [
    "## Futher Research "
   ]
  },
  {
   "cell_type": "markdown",
   "metadata": {},
   "source": [
    "The below is copied from the sample. It's based on some common sense and domain knoledge that I lack. \n",
    "\n",
    "\"\"\"This dataset only included observations from the last 7 days which prohibits analyze changes over time. It would be curious to see how the conservation status for various species changes over time. Another piece that is missing is the Area of each park, it can be assumed that Yellowstone National Park might be much larger than the other parks which would mean that it would exhibit more observations and greater biodiversity. Lastly, if precise locations were recorded, the spatial distribution of the species could also be observed and test if these observations are spatially clustered.\"\"\""
   ]
  },
  {
   "cell_type": "code",
   "execution_count": null,
   "metadata": {},
   "outputs": [],
   "source": []
  }
 ],
 "metadata": {
  "kernelspec": {
   "display_name": "Python 3 (ipykernel)",
   "language": "python",
   "name": "python3"
  },
  "language_info": {
   "codemirror_mode": {
    "name": "ipython",
    "version": 3
   },
   "file_extension": ".py",
   "mimetype": "text/x-python",
   "name": "python",
   "nbconvert_exporter": "python",
   "pygments_lexer": "ipython3",
   "version": "3.9.12"
  }
 },
 "nbformat": 4,
 "nbformat_minor": 4
}
